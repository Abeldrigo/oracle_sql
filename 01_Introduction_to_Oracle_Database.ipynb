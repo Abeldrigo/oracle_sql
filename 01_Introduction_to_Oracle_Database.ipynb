{
 "cells": [
  {
   "cell_type": "markdown",
   "metadata": {},
   "source": [
    "![aga](img/AB_logo.png)"
   ]
  },
  {
   "cell_type": "markdown",
   "metadata": {},
   "source": [
    "# Introduction to Oracle Database\n",
    "***\n",
    "## About Relational Databases\n",
    "\n",
    "\n",
    "\n",
    "Every organization has information that it must store and manage to meet its requirements. For example, a corporation must collect and maintain human resources records for its employees. This information must be available to those who need it.\n",
    "\n",
    "An **[information system](https://docs.oracle.com/database/121/CNCPT/glossary.htm#GUID-3A7A1F9C-9CA9-45E5-A5C5-66D578E68F4D)** is a formal system for storing and processing information. An information system could be a set of cardboard boxes containing manila folders along with rules for how to store and retrieve the folders. However, most companies today use a database to automate their information systems. A database is an organized collection of information treated as a unit. The purpose of a database is to collect, store, and retrieve related information for use by database applications.\n"
   ]
  },
  {
   "cell_type": "markdown",
   "metadata": {},
   "source": [
    "## Database Management System (DBMS)\n",
    "\n",
    "A **database management system (DBMS)** is software that controls the storage, organization, and retrieval of data.\n",
    "\n",
    "Typically, a DBMS has the following elements:\n",
    "\n",
    "* Kernel code\n",
    "    \n",
    "  This code manages memory and storage for the DBMS.\n",
    "\n",
    "* Repository of metadata\n",
    "\n",
    "  This repository is usually called a **[data dictionary](https://docs.oracle.com/database/121/CNCPT/glossary.htm#GUID-D6A3934F-BA6D-464F-9612-C683E20514A4)**.\n",
    "\n",
    "* Query language\n",
    "\n",
    "  This language enables applications to access the data.\n",
    "\n",
    "A **[database application](https://docs.oracle.com/database/121/CNCPT/glossary.htm#GUID-ED5708AA-D3BF-4CEF-AA19-10F6705D75F1)** is a software program that interacts with a database to access and manipulate data.\n",
    "\n",
    "The first generation of database management systems included the following types:\n",
    "\n",
    "* Hierarchical\n",
    "  A **[hierarchical database](https://docs.oracle.com/database/121/CNCPT/glossary.htm#GUID-10A60173-6F11-4372-BB70-A11E3794C65D)** organizes data in a tree structure. Each parent record has one or more child records, similar to the structure of a file system.\n",
    "\n",
    "* Network\n",
    "  A **[network database](https://docs.oracle.com/database/121/CNCPT/glossary.htm#GUID-2934B37E-9E0F-4A47-BBCC-362A408E385F)** is similar to a hierarchical database, except records have a many-to-many rather than a one-to-many relationship.\n",
    "\n",
    "The preceding database management systems stored data in rigid, predetermined relationships. Because no data definition language existed, changing the structure of the data was difficult. Also, these systems lacked a simple query language, which hindered application development."
   ]
  },
  {
   "cell_type": "markdown",
   "metadata": {},
   "source": [
    "## Relational Model\n",
    "\n",
    "A **[relational database](https://docs.oracle.com/database/121/CNCPT/glossary.htm#GUID-C76D1B18-B273-4163-A12A-F88AC06E8057)** is a database that conforms to the relational model. The relational model has the following major aspects:\n",
    "\n",
    "* Structures\n",
    "\n",
    "  Well-defined objects store or access the data of a database.\n",
    "\n",
    "* Operations\n",
    "\n",
    "  Clearly defined actions enable applications to manipulate the data and structures of a database.\n",
    "\n",
    "* Integrity rules\n",
    "\n",
    "  Integrity rules govern operations on the data and structures of a database.\n",
    "\n",
    "A relational database stores data in a set of simple relations. A **[relation](https://docs.oracle.com/database/121/CNCPT/glossary.htm#GUID-F81FA4BC-AFAF-4A1B-BDFA-0BDF42512B7A)** is a set of tuples. A **[tuple](https://docs.oracle.com/database/121/CNCPT/glossary.htm#GUID-C7F27053-7E3C-4F7A-945A-656598050C70)** is an unordered set of attribute values.\n",
    "\n",
    "A **[table](https://docs.oracle.com/database/121/CNCPT/glossary.htm#GUID-DA8F7E11-B6AF-4ED3-B2A9-B5741E9AE2D4)** is a two-dimensional representation of a relation in the form of rows (tuples) and columns (attributes). Each row in a table has the same set of columns. A relational database is a database that stores data in relations (tables). For example, a relational database could store information about company employees in an employee table, a department table, and a salary table."
   ]
  },
  {
   "cell_type": "markdown",
   "metadata": {},
   "source": [
    "## Relational Database Management System (RDBMS)\n",
    "\n",
    "The relational model is the basis for a **relational database management system (RDBMS)**. An RDBMS moves data into a database, stores the data, and retrieves it so that applications can manipulate it.\n",
    "\n",
    "An RDBMS distinguishes between the following types of operations:\n",
    "\n",
    "* Logical operations\n",
    "\n",
    "  In this case, an application specifies *what* content is required. For example, an application requests an employee name or adds an employee record to a table.\n",
    "\n",
    "* Physical operations\n",
    "\n",
    "  In this case, the RDBMS determines *how* things should be done and carries out the operation. For example, after an application queries a table, the database may use an index to find the requested rows, read the data into memory, and perform many other steps before returning a result to the user. The RDBMS stores and retrieves data so that physical operations are transparent to database applications.\n",
    "\n",
    "Oracle Database is an RDBMS. An RDBMS that implements object-oriented features such as user-defined types, inheritance, and polymorphism is called an **[object-relational database management system (ORDBMS)](https://docs.oracle.com/database/121/CNCPT/glossary.htm#GUID-B5A50116-D8BD-431E-93E6-4C6516297756)**. Oracle Database has extended the relational model to an object-relational model, making it possible to store complex business models in a relational database."
   ]
  },
  {
   "cell_type": "markdown",
   "metadata": {},
   "source": [
    "## Schema Objects\n",
    "\n",
    "One characteristic of an RDBMS is the independence of physical data storage from logical data structures.\n",
    "\n",
    "In Oracle Database, a database **[schema](https://docs.oracle.com/database/121/CNCPT/glossary.htm#GUID-D55ED7A6-3BC4-4A16-981F-92E7E905A64D)** is a collection of logical data structures, or schema objects. A database user owns a database schema, which has the same name as the **[user name](https://docs.oracle.com/database/121/CNCPT/glossary.htm#GUID-E141F64B-73ED-43DC-B22A-DA0210B8EBEF)**.\n",
    "\n",
    "Schema objects are user-created structures that directly refer to the data in the database. The database supports many types of schema objects, the most important of which are tables and indexes.\n",
    "\n",
    "A schema object is one type of **[database object](https://docs.oracle.com/database/121/CNCPT/glossary.htm#GUID-785767E0-DB47-4579-AA4D-F46C8680ACCA)**. Some database objects, such as profiles and roles, do not reside in schemas."
   ]
  },
  {
   "cell_type": "markdown",
   "metadata": {},
   "source": [
    "## Tables\n",
    "A table describes an entity such as employees. You define a table with a table name, such as ```employees```, and set of columns. In general, you give each **[column](https://docs.oracle.com/database/121/CNCPT/glossary.htm#GUID-F1D9AA5F-C66A-4D5F-A84C-8D7360DE3BE5)** a name, a **[data type](https://docs.oracle.com/database/121/CNCPT/glossary.htm#GUID-3873B26C-657D-4508-B13D-9155F1D5D8F4)**, and a width when you create the table.\n",
    "\n",
    "A table is a set of rows. A column identifies an attribute of the entity described by the table, whereas a **[row](https://docs.oracle.com/database/121/CNCPT/glossary.htm#GUID-14228D8A-2E66-49A7-B041-DFB6CA759D8C)** identifies an instance of the entity. For example, attributes of the employees entity correspond to columns for employee ID and last name. A row identifies a specific employee.\n",
    "\n",
    "You can optionally specify a rule, called an **[integrity constraint](https://docs.oracle.com/database/121/CNCPT/glossary.htm#GUID-67F8FE8C-EBA5-4796-820A-8919982A1411)**, for a column. One example is a ```NOT NULL``` integrity constraint. This constraint forces the column to contain a value in every row."
   ]
  },
  {
   "cell_type": "markdown",
   "metadata": {},
   "source": [
    "## Indexes\n",
    "\n",
    "An **index** is an optional data structure that you can create on one or more columns of a table. Indexes can increase the performance of data retrieval.\n",
    "\n",
    "When processing a request, the database can use available indexes to locate the requested rows efficiently. Indexes are useful when applications often query a specific row or range of rows.\n",
    "\n",
    "Indexes are logically and physically independent of the data. Thus, you can drop and create indexes with no effect on the tables or other indexes. All applications continue to function after you drop an index."
   ]
  },
  {
   "cell_type": "markdown",
   "metadata": {},
   "source": [
    "## Data Access\n",
    "\n",
    "A general requirement for a DBMS is to adhere to accepted industry standards for a data access language.\n",
    "\n",
    "### Structured Query Language (SQL)\n",
    "\n",
    "SQL is a set-based declarative language that provides an interface to an RDBMS such as Oracle Database. In contrast to procedural languages such as C, which describe *how* things should be done, SQL is nonprocedural and describes *what* should be done.\n",
    "\n",
    "SQL is the ANSI standard language for relational databases. All operations on the data in an Oracle database are performed using SQL statements. For example, you use SQL to create tables and query and modify data in tables.\n",
    "\n",
    "A SQL statement can be thought of as a very simple, but powerful, computer program or instruction. Users specify the result that they want (for example, the names of employees), not how to derive it. A SQL statement is a string of SQL text such as the following:\n",
    "\n",
    "```SELECT first_name, last_name FROM employees;```\n",
    "\n",
    "SQL statements enable you to perform the following tasks:\n",
    "\n",
    "* Query data\n",
    "\n",
    "* Insert, update, and delete rows in a table\n",
    "\n",
    "* Create, replace, alter, and drop objects\n",
    "\n",
    "* Control access to the database and its objects\n",
    "\n",
    "* Guarantee database consistency and integrity\n",
    "\n",
    "SQL unifies the preceding tasks in one consistent language. **[Oracle SQL](https://docs.oracle.com/database/121/CNCPT/glossary.htm#GUID-48DAF4AC-49FB-453A-A48B-AF225FEA600B)** is an implementation of the ANSI standard. Oracle SQL supports numerous features that extend beyond standard SQL."
   ]
  },
  {
   "cell_type": "markdown",
   "metadata": {},
   "source": [
    "### PL/SQL and Java\n",
    "\n",
    "**PL/SQL** is a procedural extension to Oracle SQL. PL/SQL is integrated with Oracle Database, enabling you to use all of the Oracle Database SQL statements, functions, and data types. You can use PL/SQL to control the flow of a SQL program, use variables, and write error-handling procedures.\n",
    "\n",
    "A primary benefit of PL/SQL is the ability to store application logic in the database itself. A **[PL/SQL procedure](https://docs.oracle.com/database/121/CNCPT/glossary.htm#GUID-D2210901-18F2-43C0-B0CC-6953E94CD7EF)** or **[function](https://docs.oracle.com/database/121/CNCPT/glossary.htm#GUID-5611828A-3621-4527-AEB1-12017A454E94)** is a schema object that consists of a set of SQL statements and other PL/SQL constructs, grouped together, stored in the database, and run as a unit to solve a specific problem or to perform a set of related tasks. The principal benefit of server-side programming is that built-in functionality can be deployed anywhere.\n",
    "\n",
    "Oracle Database can also store program units written in Java. A Java stored procedure is a Java method published to SQL and stored in the database for general use. You can call existing PL/SQL programs from Java and Java programs from PL/SQL."
   ]
  },
  {
   "cell_type": "markdown",
   "metadata": {},
   "source": [
    "## Transaction Management\n",
    "\n",
    "Oracle Database is designed as a multiuser database. The database must ensure that multiple users can work concurrently without corrupting one another's data.\n",
    "\n",
    "### Transactions\n",
    "\n",
    "A **transaction** is a logical, atomic unit of work that contains one or more SQL statements. An RDBMS must be able to group SQL statements so that they are either all committed, which means they are applied to the database, or all rolled back, which means they are undone.\n",
    "\n",
    "An illustration of the need for transactions is a funds transfer from a savings account to a checking account. The transfer consists of the following separate operations:\n",
    "\n",
    "1. Decrease the savings account.\n",
    "\n",
    "2. Increase the checking account.\n",
    "\n",
    "3. Record the transaction in the transaction journal.\n",
    "\n",
    "Oracle Database guarantees that all three operations succeed or fail as a unit. For example, if a hardware failure prevents a statement in the transaction from executing, then the other statements must be rolled back.\n",
    "\n",
    "Transactions are one feature that set Oracle Database apart from a file system. If you perform an atomic operation that updates several files, and if the system fails halfway through, then the files will not be consistent. In contrast, a transaction moves an Oracle database from one consistent state to another. The basic principle of a transaction is \"all or nothing\": an atomic operation succeeds or fails as a whole."
   ]
  },
  {
   "cell_type": "markdown",
   "metadata": {},
   "source": [
    "### Data Concurrency\n",
    "\n",
    "A requirement of a multiuser RDBMS is the control of **data concurrency**, which is the simultaneous access of the same data by multiple users.\n",
    "\n",
    "Without concurrency controls, users could change data improperly, compromising **[data integrity](https://docs.oracle.com/database/121/CNCPT/glossary.htm#GUID-9DE527B3-8901-4F4C-A18F-D2C2C307AFE1)**. For example, one user could update a row while a different user simultaneously updates it.\n",
    "\n",
    "If multiple users access the same data, then one way of managing concurrency is to make users wait. However, the goal of a DBMS is to reduce wait time so it is either nonexistent or negligible. All SQL statements that modify data must proceed with as little interference as possible. Destructive interactions, which are interactions that incorrectly update data or alter underlying data structures, must be avoided.\n",
    "\n",
    "Oracle Database uses locks to control concurrent access to data. A lock is a mechanism that prevents destructive interaction between transactions accessing a shared resource. Locks help ensure data integrity while allowing maximum concurrent access to data."
   ]
  },
  {
   "cell_type": "markdown",
   "metadata": {},
   "source": [
    "### Data Consistency\n",
    "\n",
    "In Oracle Database, each user must see a consistent view of the data, including visible changes made by a user's own transactions and committed transactions of other users.\n",
    "\n",
    "For example, the database must prevent the **[lost update](https://docs.oracle.com/database/121/CNCPT/glossary.htm#GUID-F9DA6F63-B518-44C5-B98B-2425680EB498)** problem, which occurs when one transaction sees uncommitted changes made by another concurrent transaction.\n",
    "\n",
    "Oracle Database always enforces statement-level **[read consistency](https://docs.oracle.com/database/121/CNCPT/glossary.htm#GUID-A2D92FBD-9C36-432E-A44F-0462DB2E5527)**, which guarantees that the data that a single query returns is committed and consistent for a single point in time. Depending on the transaction isolation level, this point is the time at which the statement was opened or the time the transaction began. The Flashback Query feature enables you to specify this point in time explicitly.\n",
    "\n",
    "The database can also provide read consistency to all queries in a transaction, known as transaction-level read consistency. In this case, each statement in a transaction sees data from the same point in time, which is the time at which the transaction began."
   ]
  },
  {
   "cell_type": "markdown",
   "metadata": {},
   "source": [
    "## Oracle Database Architecture\n",
    "\n",
    "A **database server** is the key to information management.\n",
    "\n",
    "In general, a **[server](https://docs.oracle.com/database/121/CNCPT/glossary.htm#GUID-A3046A66-CC14-47F6-8F91-BDF097F1CA05)** reliably manages a large amount of data in a multiuser environment so that users can concurrently access the same data. A database server also prevents unauthorized access and provides efficient solutions for failure recovery.\n",
    "\n",
    "### Database and Instance\n",
    "\n",
    "An Oracle database server consists of a database and at least one **database instance**, commonly referred to as simply an *instance*. Because an instance and a database are so closely connected, the term **Oracle database** is sometimes used to refer to both instance and database.\n",
    "\n",
    "In the strictest sense the terms have the following meanings:\n",
    "\n",
    "* Database\n",
    "\n",
    "  A database is a set of files, located on disk, that store data. These files can exist independently of a database instance.\n",
    "\n",
    "* Database instance\n",
    "\n",
    "  An instance is a set of memory structures that manage database files. The instance consists of a shared memory area, called the **[system global area (SGA)](https://docs.oracle.com/database/121/CNCPT/glossary.htm#GUID-78C0E867-233A-4857-B9FE-A3852A9B7BDF)**, and a set of background processes. An instance can exist independently of database files.\n",
    "\n",
    "Figure 1-1 shows a database and its instance. For each user connection to the instance, a **[client process](https://docs.oracle.com/database/121/CNCPT/glossary.htm#GUID-6F3BBCE8-F471-41E8-8C98-F4C62A85862B)** runs the application. Each client process is associated with its own **[server process](https://docs.oracle.com/database/121/CNCPT/glossary.htm#GUID-E660AC1C-B704-4DC1-A35A-DB49EFB34F4A)**. The server process has its own private session memory, known as the **[program global area (PGA)](https://docs.oracle.com/database/121/CNCPT/glossary.htm#GUID-76021F69-AC7A-4D8D-A308-A7B8AC072EEF)**.\n",
    "\n",
    "***Figure 1-1 Oracle Instance and Database***\n",
    "![](https://docs.oracle.com/database/121/CNCPT/img/GUID-A30AF38A-7D55-4987-A0FB-02BAAF079AC5-default.gif)\n",
    "\n",
    "A database can be considered from both a physical and logical perspective. Physical data is data viewable at the operating system level. For example, operating system utilities such as the Linux `ls` and `ps` can list database files and processes. Logical data such as a table is meaningful only for the database. A SQL statement can list the tables in an Oracle database, but an operating system utility cannot.\n",
    "\n",
    "The database has physical structures and logical structures. Because the physical and logical structures are separate, you can manage the physical storage of data without affecting access to logical storage structures. For example, renaming a physical database file does not rename the tables whose data is stored in this file."
   ]
  },
  {
   "cell_type": "markdown",
   "metadata": {},
   "source": [
    "## Database Storage Structures\n",
    "\n",
    "An essential task of a relational database is data storage. This section briefly describes the physical and logical storage structures that Oracle Database uses.\n",
    "\n",
    "### Physical Storage Structures\n",
    "\n",
    "The physical database structures are the files that store the data.\n",
    "\n",
    "When you execute a `CREATE DATABASE` statement, the following files are created:\n",
    "\n",
    "* Data files\n",
    "\n",
    "  Every Oracle database has one or more physical data files, which contain all the database data. The data of logical database structures, such as tables and indexes, is physically stored in the data files.\n",
    "\n",
    "* Control files\n",
    "\n",
    "  Every Oracle database has a **[control file](https://docs.oracle.com/database/121/CNCPT/glossary.htm#GUID-DF498605-D186-451B-87AA-73DF396AD599)**. A control file contains metadata specifying the physical structure of the database, including the database name and the names and locations of the database files.\n",
    "\n",
    "* Online redo log files\n",
    "\n",
    "  Every Oracle Database has an **[online redo log](https://docs.oracle.com/database/121/CNCPT/glossary.htm#GUID-2A8BC112-AB70-4B06-9F85-FE975861CEE0)**, which is a set of two or more online redo log files. An online **[redo log](https://docs.oracle.com/database/121/CNCPT/glossary.htm#GUID-F24A4593-5E47-4D06-B9D6-0061D288373C)** is made up of redo entries (also called redo log records), which record all changes made to data.\n",
    "\n",
    "Many other files are important for the functioning of an Oracle database server. These include parameter files and networking files. Backup files and archived redo log files are offline files important for backup and recovery."
   ]
  },
  {
   "cell_type": "markdown",
   "metadata": {},
   "source": [
    "### Logical Storage Structures\n",
    "\n",
    "Logical storage structures enable Oracle Database to have fine-grained control of disk space use.\n",
    "\n",
    "This topic discusses logical storage structures:\n",
    "\n",
    "* Data blocks\n",
    "\n",
    "  At the finest level of granularity, Oracle Database data is stored in data blocks. One **[data block](https://docs.oracle.com/database/121/CNCPT/glossary.htm#GUID-2141C31D-6752-4260-91CE-99B4CC557247)** corresponds to a specific number of bytes on disk.\n",
    "\n",
    "* Extents\n",
    "\n",
    "  An **[extent](https://docs.oracle.com/database/121/CNCPT/glossary.htm#GUID-C56D833A-B3D3-4B85-AAB4-334F7CF3F5E9)** is a specific number of logically contiguous data blocks, obtained in a single allocation, used to store a specific type of information.\n",
    "\n",
    "* Segments\n",
    "\n",
    "  A **[segment](https://docs.oracle.com/database/121/CNCPT/glossary.htm#GUID-EC12AA68-8C89-43B3-B1F9-3AABF7CAEB9F)** is a set of extents allocated for a user object (for example, a table or index), **[undo data](https://docs.oracle.com/database/121/CNCPT/glossary.htm#GUID-297B963A-989C-4720-B061-A2352FF72892)**, or temporary data.\n",
    "\n",
    "* Tablespaces\n",
    "\n",
    "  A database is divided into logical storage units called tablespaces. A **[tablespace](https://docs.oracle.com/database/121/CNCPT/glossary.htm#GUID-AA66891C-71B2-4D55-8F64-0E427AE24E88)** is the logical container for a segment. Each tablespace consists of at least one data file."
   ]
  },
  {
   "cell_type": "markdown",
   "metadata": {},
   "source": [
    "### Database Instance Structures\n",
    "\n",
    "An Oracle database uses memory structures and processes to manage and access the database. All memory structures exist in the main memory of the computers that constitute the RDBMS.\n",
    "\n",
    "When applications connect to an Oracle database, they connect to a **[database instance](https://docs.oracle.com/database/121/CNCPT/glossary.htm#GUID-CFB1A30E-76B6-44EA-839E-9E63C8DA31AC)**. The instance services applications by allocating other memory areas in addition to the SGA, and starting other processes in addition to background processes.\n",
    "\n",
    "#### Oracle Database Processes\n",
    "\n",
    "A **process** is a mechanism in an operating system that can run a series of steps. Some operating systems use the terms *job, task, or thread*.\n",
    "\n",
    "For the purposes of this topic, a thread is equivalent to a process. An Oracle database instance has the following types of processes:\n",
    "\n",
    "* Client processes\n",
    "\n",
    "  These processes are created and maintained to run the software code of an application program or an Oracle tool. Most environments have separate computers for client processes.\n",
    "\n",
    "* Background processes\n",
    "\n",
    "  These processes consolidate functions that would otherwise be handled by multiple Oracle Database programs running for each client process. Background processes asynchronously perform I/O and monitor other Oracle Database processes to provide increased parallelism for better performance and reliability.\n",
    "\n",
    "* Server processes\n",
    "\n",
    "  These processes communicate with client processes and interact with Oracle Database to fulfill requests.\n",
    "\n",
    "Oracle processes include server processes and background processes. In most environments, Oracle processes and client processes run on separate computers."
   ]
  },
  {
   "cell_type": "markdown",
   "metadata": {},
   "source": [
    "#### Instance Memory Structures\n",
    "\n",
    "Oracle Database creates and uses memory structures for program code, data shared among users, and private data areas for each connected user.\n",
    "\n",
    "The following memory structures are associated with a database instance:\n",
    "\n",
    "* System Global Area (SGA)\n",
    "\n",
    "  The SGA is a group of shared memory structures that contain data and control information for one database instance. Examples of SGA components include the database buffer cache and shared SQL areas. Starting in Oracle Database 12c Release 1 (12.1.0.2), the SGA can contain an optional **[In-Memory Column Store](https://docs.oracle.com/database/121/CNCPT/glossary.htm#GUID-A19D33EA-7BAA-42C0-9E13-6AF686E2A976)** (IM column store), which enables data to be populated in memory in a **[columnar format](https://docs.oracle.com/database/121/CNCPT/glossary.htm#GUID-DDC39B24-BE95-406A-986F-D760308CA26D)**.\n",
    "\n",
    "* Program Global Areas (PGA)\n",
    "\n",
    "  A PGA is a memory region that contains data and control information for a server or background process. Access to the PGA is exclusive to the process. Each server process and background process has its own PGA."
   ]
  },
  {
   "cell_type": "markdown",
   "metadata": {},
   "source": [
    "## Application and Networking Architecture\n",
    "\n",
    "To take full advantage of a given computer system or network, Oracle Database enables processing to be split between the database server and the client programs. The computer running the RDBMS handles the database server responsibilities while the computers running the applications handle the interpretation and display of data.\n",
    "\n",
    "### Application Architecture\n",
    "\n",
    "The application architecture is the computing environment in which a database application connects to an Oracle database. The two most common database architectures are client/server and multitier.\n",
    "\n",
    "    * In a **[client/server architecture](https://docs.oracle.com/database/121/CNCPT/glossary.htm#GUID-6F0D8417-F8ED-4D91-BB81-1F86499ADD69)**, the client application initiates a request for an operation to be performed on the database server.\n",
    "\n",
    "    The server runs Oracle Database software and handles the functions required for concurrent, shared data access. The server receives and processes requests that originate from clients.\n",
    "\n",
    "    * In a traditional **[multitier architecture](https://docs.oracle.com/database/121/CNCPT/glossary.htm#GUID-A8812375-43CA-4C1A-B376-A59C6FADF50B)**, one or more application servers perform parts of the operation.\n",
    "\n",
    "    An **[application server](https://docs.oracle.com/database/121/CNCPT/glossary.htm#GUID-1774BB0F-837E-4651-B1A3-BC468B027B8F)** contains a large part of the application logic, provides access to the data for the client, and performs some query processing. In this way, the load on the database decreases. The application server can serve as an interface between clients and multiple databases and provide an additional level of security.\n",
    "\n",
    "A **[service-oriented architecture (SOA)](https://docs.oracle.com/database/121/CNCPT/glossary.htm#GUID-2CB01B71-A23D-4127-B54A-E946C23BEDFC)** is a multitier architecture in which application functionality is encapsulated in services. SOA services are usually implemented as Web services. Web services are accessible through HTTP and are based on XML-based standards such as Web Services Description Language (WSDL) and SOAP.\n",
    "\n",
    "Oracle Database can act as a Web service provider in a traditional multitier or SOA environment."
   ]
  },
  {
   "cell_type": "markdown",
   "metadata": {},
   "source": [
    "### Networking Architecture\n",
    "\n",
    "**Oracle Net Services** is the interface between the database and the network communication protocols that facilitate distributed processing and distributed databases.\n",
    "\n",
    "Communication protocols define the way that data is transmitted and received on a network. Oracle Net Services supports communications on all major network protocols, including TCP/IP, HTTP, FTP, and WebDAV.\n",
    "\n",
    "**[Oracle Net](https://docs.oracle.com/database/121/CNCPT/glossary.htm#GUID-4F4232CE-6A82-4F39-8565-281AF563F0AE)**, a component of Oracle Net Services, establishes and maintains a network session from a client application to a database server. After a network session is established, Oracle Net acts as the data courier for both the client application and the database server, exchanging messages between them. Oracle Net can perform these jobs because it is located on each computer in the network.\n",
    "\n",
    "An important component of Net Services is the **[Oracle Net Listener](https://docs.oracle.com/database/121/CNCPT/glossary.htm#GUID-504800FA-2159-495B-8E4F-B2D4D938EA85)** (called the *listener*), which is a process that runs on the database or elsewhere in the network. Client applications send connection requests to the listener, which manages the traffic of these requests to the database. When a connection is established, the client and database communicate directly.\n",
    "\n",
    "The most common ways to configure an Oracle database to service client requests are:\n",
    "\n",
    "* Dedicated server architecture\n",
    "\n",
    "  Each client process connects to a **[dedicated server](https://docs.oracle.com/database/121/CNCPT/glossary.htm#GUID-8B14C804-9D68-471C-A581-5AEE673A9FCD)** process. The server process is not shared by any other client for the duration of the client's session. Each new session is assigned a dedicated server process.\n",
    "\n",
    "* Shared server architecture\n",
    "\n",
    "  The database uses a pool of **[shared server](https://docs.oracle.com/database/121/CNCPT/glossary.htm#GUID-E94CE0E3-CC86-4F46-B8EF-54945F026326)** processes for multiple sessions. A client process communicates with a **[dispatcher](https://docs.oracle.com/database/121/CNCPT/glossary.htm#GUID-D8288F03-1F84-4766-AF5B-B341A714BD3F)**, which is a process that enables many clients to connect to the same database instance without the need for a dedicated server process for each client."
   ]
  },
  {
   "cell_type": "markdown",
   "metadata": {},
   "source": [
    "### Multitenant Architecture\n",
    "Starting in Oracle Database 12*c*, the multitenant architecture enables an Oracle database to be a multitenant container database (CDB).\n",
    "\n",
    "A **[CDB](https://docs.oracle.com/database/121/CNCPT/glossary.htm#GUID-135FF536-DE9B-40CF-9F42-C246762BD77F)** is a single physical database that contains zero, one, or many user-created pluggable databases. A **[pluggable database (PDB)](https://docs.oracle.com/database/121/CNCPT/glossary.htm#GUID-15825EC2-B512-4FD1-A734-AE4DAB3B3AEC)** is a portable collection of schemas, schema objects, and nonschema objects that appears to an **[Oracle Net](https://docs.oracle.com/database/121/CNCPT/glossary.htm#GUID-4F4232CE-6A82-4F39-8565-281AF563F0AE)** client as a non-CDB. A **[non-CDB](https://docs.oracle.com/database/121/CNCPT/glossary.htm#GUID-B2710CAA-8F00-40B3-97AB-4521D2147EE8)** is a traditional Oracle database that cannot contain PDBs.\n",
    "\n",
    "Starting in Oracle Database 12*c*, you must create a database as either a CDB or non-CDB. You can plug a non-CDB into a CDB as a PDB. To move a PDB to a non-CDB, you must use Oracle Data Pump.\n",
    "\n",
    "By consolidating multiple physical databases on separate computers into a single database on a single computer, the multitenant architecture provides the following benefits:\n",
    "\n",
    "* Cost reduction for hardware\n",
    "\n",
    "* Easier and more rapid movement of data and code\n",
    "\n",
    "* Easier management and monitoring of the physical database\n",
    "\n",
    "* Separation of data and code\n",
    "\n",
    "* Separation of duties between a **[PDB administrator](https://docs.oracle.com/database/121/CNCPT/glossary.htm#GUID-6E44D9F6-9FE1-4FEA-998A-51ACA5775AF5)**, who manages only the PDBs to which she or he is granted privileges, and the **[CDB administrator](https://docs.oracle.com/database/121/CNCPT/glossary.htm#GUID-24233CA1-CF2F-4E02-B202-83DB0571DDB9)**, who manages the entire CDB\n",
    "\n",
    "Figure 1-2 shows two separate non-CDBs: `hr` and `sales`. Each non-CDB has its own memory and set of database files, and resides on its own computer. Each non-CDB has its own dedicated user application.\n",
    "\n",
    "***Figure 1-2 Non-CDBs***\n",
    "![](https://docs.oracle.com/database/121/CNCPT/img/GUID-5983CD37-26F6-492A-98F8-720D2F1056E1-default.png)\n",
    "\n",
    "Figure 1-3 shows the same data after being consolidated into the CDB named `MYCDB`.\n",
    "![](https://docs.oracle.com/database/121/CNCPT/img/GUID-8FAEFA5D-EE9D-457D-96C8-67780B040656-default.png)\n",
    "\n",
    "Physically, `MYCDB` is an Oracle database. `MYCDB` has one database instance (although multiple instances are possible in Oracle Real Application Clusters) and one set of database files, just like a non-CDB.\n",
    "\n",
    "MYCDB contains two PDBs: hrpdb and salespdb. As shown in Figure 1-3, these PDBs appear to their respective applications just as they did before database consolidation. To administer the CDB itself or any PDB within it, a CDB administrator can connect to the **[CDB root](https://docs.oracle.com/database/121/CNCPT/glossary.htm#GUID-1C63428A-905A-4918-95AA-F3BBA3D2B825)**, which is a collection of schemas, schema objects, and nonschema objects to which all PDBs belong.\n",
    "\n",
    "CDBs and non-CDBs have architectural differences. This manual assumes the architecture of a non-CDB unless otherwise indicated."
   ]
  },
  {
   "cell_type": "markdown",
   "metadata": {},
   "source": [
    "**[Documentation](https://docs.oracle.com/database/121/CNCPT/intro.htm#CNCPT88796)**"
   ]
  },
  {
   "cell_type": "markdown",
   "metadata": {},
   "source": [
    "[![](https://docs.oracle.com/en/dcommon/img/oracle-doc-logo.png)](https://docs.oracle.com/en/)"
   ]
  }
 ],
 "metadata": {
  "kernelspec": {
   "display_name": "Python 3",
   "language": "python",
   "name": "python3"
  },
  "language_info": {
   "codemirror_mode": {
    "name": "ipython",
    "version": 3
   },
   "file_extension": ".py",
   "mimetype": "text/x-python",
   "name": "python",
   "nbconvert_exporter": "python",
   "pygments_lexer": "ipython3",
   "version": "3.6.9"
  }
 },
 "nbformat": 4,
 "nbformat_minor": 4
}
